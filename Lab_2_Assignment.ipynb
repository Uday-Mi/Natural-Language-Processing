{
  "nbformat": 4,
  "nbformat_minor": 0,
  "metadata": {
    "colab": {
      "provenance": []
    },
    "kernelspec": {
      "name": "python3",
      "display_name": "Python 3"
    },
    "language_info": {
      "name": "python"
    }
  },
  "cells": [
    {
      "cell_type": "code",
      "execution_count": 1,
      "metadata": {
        "colab": {
          "base_uri": "https://localhost:8080/"
        },
        "id": "HwLr_CIN_jqu",
        "outputId": "a3159b10-7abc-4d26-ab0b-52b263f3cb62"
      },
      "outputs": [
        {
          "output_type": "stream",
          "name": "stderr",
          "text": [
            "[nltk_data] Downloading package treebank to /root/nltk_data...\n",
            "[nltk_data]   Unzipping corpora/treebank.zip.\n",
            "[nltk_data] Downloading package brown to /root/nltk_data...\n",
            "[nltk_data]   Unzipping corpora/brown.zip.\n",
            "[nltk_data] Downloading package conll2000 to /root/nltk_data...\n",
            "[nltk_data]   Unzipping corpora/conll2000.zip.\n"
          ]
        },
        {
          "output_type": "execute_result",
          "data": {
            "text/plain": [
              "True"
            ]
          },
          "metadata": {},
          "execution_count": 1
        }
      ],
      "source": [
        "import numpy as np\n",
        "from matplotlib import pyplot as plt\n",
        "from nltk.corpus import brown\n",
        "from nltk.corpus import treebank\n",
        "from nltk.corpus import conll2000\n",
        "import seaborn as sns\n",
        "from gensim.models import KeyedVectors\n",
        "from keras.utils import pad_sequences\n",
        "from keras.utils.np_utils import to_categorical\n",
        "from keras.models import Sequential\n",
        "from keras.layers import Embedding\n",
        "from keras.layers import Dense, Input\n",
        "from keras.layers import TimeDistributed\n",
        "from keras.layers import LSTM, GRU, Bidirectional, SimpleRNN, RNN\n",
        "from keras.models import Model\n",
        "from keras.preprocessing.text import Tokenizer\n",
        "from sklearn.model_selection import train_test_split\n",
        "from sklearn.utils import shuffle\n",
        "import nltk\n",
        "nltk.download('treebank')\n",
        "nltk.download('brown')\n",
        "nltk.download('conll2000')"
      ]
    },
    {
      "cell_type": "code",
      "source": [
        "treebank_corpus = treebank.tagged_sents(tagset='universal')\n",
        "brown_corpus = brown.tagged_sents(tagset='universal')\n",
        "conll_corpus = conll2000.tagged_sents(tagset='universal')\n",
        "tagged_sentences = treebank_corpus + brown_corpus + conll_corpus\n",
        "nltk.download('universal_tagset')"
      ],
      "metadata": {
        "colab": {
          "base_uri": "https://localhost:8080/"
        },
        "id": "mgJRzefX_kLG",
        "outputId": "269c185b-d4ac-4f74-8bc1-f6e18c356bb9"
      },
      "execution_count": 5,
      "outputs": [
        {
          "output_type": "stream",
          "name": "stderr",
          "text": [
            "[nltk_data] Downloading package universal_tagset to /root/nltk_data...\n",
            "[nltk_data]   Unzipping taggers/universal_tagset.zip.\n"
          ]
        },
        {
          "output_type": "execute_result",
          "data": {
            "text/plain": [
              "True"
            ]
          },
          "metadata": {},
          "execution_count": 5
        }
      ]
    },
    {
      "cell_type": "code",
      "source": [
        "X = [] # store input sequence\n",
        "Y = [] # store output sequence\n",
        "\n",
        "for sentence in tagged_sentences:\n",
        "    X_sentence = []\n",
        "    Y_sentence = []\n",
        "    for entity in sentence:         \n",
        "        X_sentence.append(entity[0])  # entity[0] contains the word\n",
        "        Y_sentence.append(entity[1])  # entity[1] contains corresponding tag\n",
        "        \n",
        "    X.append(X_sentence)\n",
        "    Y.append(Y_sentence)"
      ],
      "metadata": {
        "id": "FGj8-5No_oso"
      },
      "execution_count": 6,
      "outputs": []
    },
    {
      "cell_type": "code",
      "source": [
        "num_words = len(set([word.lower() for sentence in X for word in sentence]))\n",
        "num_tags   = len(set([word.lower() for sentence in Y for word in sentence]))"
      ],
      "metadata": {
        "id": "XUOh5uUS_rgx"
      },
      "execution_count": 7,
      "outputs": []
    },
    {
      "cell_type": "code",
      "source": [
        "print(\"Total number of tagged sentences: {}\".format(len(X)))\n",
        "print(\"Vocabulary size: {}\".format(num_words))\n",
        "print(\"Total number of tags: {}\".format(num_tags))"
      ],
      "metadata": {
        "colab": {
          "base_uri": "https://localhost:8080/"
        },
        "id": "EMZe9X4J_tlB",
        "outputId": "db672bec-2ea8-4dcf-d57e-5de61de42806"
      },
      "execution_count": 8,
      "outputs": [
        {
          "output_type": "stream",
          "name": "stdout",
          "text": [
            "Total number of tagged sentences: 72202\n",
            "Vocabulary size: 59448\n",
            "Total number of tags: 12\n"
          ]
        }
      ]
    },
    {
      "cell_type": "code",
      "source": [
        "print('sample X: ', X[0], '\\n')\n",
        "print('sample Y: ', Y[0], '\\n')"
      ],
      "metadata": {
        "colab": {
          "base_uri": "https://localhost:8080/"
        },
        "id": "0Vlky_k2_6pX",
        "outputId": "13962a63-7fe6-4ece-fb89-6984bd79e81b"
      },
      "execution_count": 9,
      "outputs": [
        {
          "output_type": "stream",
          "name": "stdout",
          "text": [
            "sample X:  ['Pierre', 'Vinken', ',', '61', 'years', 'old', ',', 'will', 'join', 'the', 'board', 'as', 'a', 'nonexecutive', 'director', 'Nov.', '29', '.'] \n",
            "\n",
            "sample Y:  ['NOUN', 'NOUN', '.', 'NUM', 'NOUN', 'ADJ', '.', 'VERB', 'VERB', 'DET', 'NOUN', 'ADP', 'DET', 'ADJ', 'NOUN', 'NOUN', 'NUM', '.'] \n",
            "\n"
          ]
        }
      ]
    },
    {
      "cell_type": "code",
      "source": [
        "print(\"Length of first input sequence  : {}\".format(len(X[0])))\n",
        "print(\"Length of first output sequence : {}\".format(len(Y[0])))"
      ],
      "metadata": {
        "colab": {
          "base_uri": "https://localhost:8080/"
        },
        "id": "ZqP0vS0M_78o",
        "outputId": "380c1afa-ff5c-4f86-f244-56a1f692c302"
      },
      "execution_count": 10,
      "outputs": [
        {
          "output_type": "stream",
          "name": "stdout",
          "text": [
            "Length of first input sequence  : 18\n",
            "Length of first output sequence : 18\n"
          ]
        }
      ]
    },
    {
      "cell_type": "code",
      "source": [
        "word_tokenizer = Tokenizer()                      # instantiate tokeniser\n",
        "word_tokenizer.fit_on_texts(X)                    # fit tokeniser on data\n",
        "X_encoded = word_tokenizer.texts_to_sequences(X)"
      ],
      "metadata": {
        "id": "RIiyYA1W_-Oz"
      },
      "execution_count": 11,
      "outputs": []
    },
    {
      "cell_type": "code",
      "source": [
        "tag_tokenizer = Tokenizer()\n",
        "tag_tokenizer.fit_on_texts(Y)\n",
        "Y_encoded = tag_tokenizer.texts_to_sequences(Y)"
      ],
      "metadata": {
        "id": "kQh7kC0XABHO"
      },
      "execution_count": 12,
      "outputs": []
    },
    {
      "cell_type": "code",
      "source": [
        "print(\"** Raw data point **\", \"\\n\", \"-\"*100, \"\\n\")\n",
        "print('X: ', X[0], '\\n')\n",
        "print('Y: ', Y[0], '\\n')\n",
        "print()\n",
        "print(\"** Encoded data point **\", \"\\n\", \"-\"*100, \"\\n\")\n",
        "print('X: ', X_encoded[0], '\\n')\n",
        "print('Y: ', Y_encoded[0], '\\n')"
      ],
      "metadata": {
        "colab": {
          "base_uri": "https://localhost:8080/"
        },
        "id": "Ppyf9IYHACp0",
        "outputId": "3cba585f-1b19-4111-ec55-af227721e8fc"
      },
      "execution_count": 13,
      "outputs": [
        {
          "output_type": "stream",
          "name": "stdout",
          "text": [
            "** Raw data point ** \n",
            " ---------------------------------------------------------------------------------------------------- \n",
            "\n",
            "X:  ['Pierre', 'Vinken', ',', '61', 'years', 'old', ',', 'will', 'join', 'the', 'board', 'as', 'a', 'nonexecutive', 'director', 'Nov.', '29', '.'] \n",
            "\n",
            "Y:  ['NOUN', 'NOUN', '.', 'NUM', 'NOUN', 'ADJ', '.', 'VERB', 'VERB', 'DET', 'NOUN', 'ADP', 'DET', 'ADJ', 'NOUN', 'NOUN', 'NUM', '.'] \n",
            "\n",
            "\n",
            "** Encoded data point ** \n",
            " ---------------------------------------------------------------------------------------------------- \n",
            "\n",
            "X:  [6423, 24231, 2, 7652, 102, 170, 2, 47, 1898, 1, 269, 17, 7, 13230, 619, 1711, 2761, 3] \n",
            "\n",
            "Y:  [1, 1, 3, 11, 1, 6, 3, 2, 2, 5, 1, 4, 5, 6, 1, 1, 11, 3] \n",
            "\n"
          ]
        }
      ]
    },
    {
      "cell_type": "code",
      "source": [
        "different_length = [1 if len(input) != len(output) else 0 for input, output in zip(X_encoded, Y_encoded)]\n",
        "print(\"{} sentences have disparate input-output lengths.\".format(sum(different_length)))"
      ],
      "metadata": {
        "colab": {
          "base_uri": "https://localhost:8080/"
        },
        "id": "tcZOy628AESn",
        "outputId": "2643a5a2-7d0f-410d-b982-97d882686066"
      },
      "execution_count": 14,
      "outputs": [
        {
          "output_type": "stream",
          "name": "stdout",
          "text": [
            "0 sentences have disparate input-output lengths.\n"
          ]
        }
      ]
    },
    {
      "cell_type": "code",
      "source": [
        "lengths = [len(seq) for seq in X_encoded]\n",
        "print(\"Length of longest sentence: {}\".format(max(lengths)))"
      ],
      "metadata": {
        "colab": {
          "base_uri": "https://localhost:8080/"
        },
        "id": "Bxuq7qh7AGYu",
        "outputId": "e7cc4bb3-b8ad-409a-fce1-36e9d27d6755"
      },
      "execution_count": 15,
      "outputs": [
        {
          "output_type": "stream",
          "name": "stdout",
          "text": [
            "Length of longest sentence: 271\n"
          ]
        }
      ]
    },
    {
      "cell_type": "code",
      "source": [
        "sns.boxplot(lengths)\n",
        "plt.show()"
      ],
      "metadata": {
        "colab": {
          "base_uri": "https://localhost:8080/",
          "height": 430
        },
        "id": "5MJ8CXnPAIIV",
        "outputId": "c82ef8db-b569-4e1b-b37f-5756ddbadb1d"
      },
      "execution_count": 16,
      "outputs": [
        {
          "output_type": "display_data",
          "data": {
            "text/plain": [
              "<Figure size 640x480 with 1 Axes>"
            ],
            "image/png": "[encoded data removed]"
          },
          "metadata": {}
        }
      ]
    },
    {
      "cell_type": "code",
      "source": [
        "MAX_SEQ_LENGTH = 100  # sequences greater than 100 in length will be truncated\n",
        "\n",
        "X_padded = pad_sequences(X_encoded, maxlen=MAX_SEQ_LENGTH, padding=\"pre\", truncating=\"post\")\n",
        "Y_padded = pad_sequences(Y_encoded, maxlen=MAX_SEQ_LENGTH, padding=\"pre\", truncating=\"post\")"
      ],
      "metadata": {
        "id": "znBYZMR0ALDG"
      },
      "execution_count": 17,
      "outputs": []
    },
    {
      "cell_type": "code",
      "source": [
        "print(X_padded[0], \"\\n\"*3)\n",
        "print(Y_padded[0])"
      ],
      "metadata": {
        "colab": {
          "base_uri": "https://localhost:8080/"
        },
        "id": "GdQBKYyVAMzr",
        "outputId": "3ddc4748-fb0a-46a4-e5df-ac620c7c054d"
      },
      "execution_count": 18,
      "outputs": [
        {
          "output_type": "stream",
          "name": "stdout",
          "text": [
            "[    0     0     0     0     0     0     0     0     0     0     0     0\n",
            "     0     0     0     0     0     0     0     0     0     0     0     0\n",
            "     0     0     0     0     0     0     0     0     0     0     0     0\n",
            "     0     0     0     0     0     0     0     0     0     0     0     0\n",
            "     0     0     0     0     0     0     0     0     0     0     0     0\n",
            "     0     0     0     0     0     0     0     0     0     0     0     0\n",
            "     0     0     0     0     0     0     0     0     0     0  6423 24231\n",
            "     2  7652   102   170     2    47  1898     1   269    17     7 13230\n",
            "   619  1711  2761     3] \n",
            "\n",
            "\n",
            "\n",
            "[ 0  0  0  0  0  0  0  0  0  0  0  0  0  0  0  0  0  0  0  0  0  0  0  0\n",
            "  0  0  0  0  0  0  0  0  0  0  0  0  0  0  0  0  0  0  0  0  0  0  0  0\n",
            "  0  0  0  0  0  0  0  0  0  0  0  0  0  0  0  0  0  0  0  0  0  0  0  0\n",
            "  0  0  0  0  0  0  0  0  0  0  1  1  3 11  1  6  3  2  2  5  1  4  5  6\n",
            "  1  1 11  3]\n"
          ]
        }
      ]
    },
    {
      "cell_type": "code",
      "source": [
        "X, Y = X_padded, Y_padded"
      ],
      "metadata": {
        "id": "B8zZKQ1cAOD5"
      },
      "execution_count": 19,
      "outputs": []
    },
    {
      "cell_type": "code",
      "source": [
        "from google.colab import drive"
      ],
      "metadata": {
        "id": "kl_R6fWhAZbC"
      },
      "execution_count": 22,
      "outputs": []
    },
    {
      "cell_type": "code",
      "source": [
        "drive.mount('/content/drive')"
      ],
      "metadata": {
        "colab": {
          "base_uri": "https://localhost:8080/"
        },
        "id": "ij6zPyECAcBK",
        "outputId": "9dd00858-6d48-485c-e58d-dfce7e7b91d9"
      },
      "execution_count": 24,
      "outputs": [
        {
          "output_type": "stream",
          "name": "stdout",
          "text": [
            "Mounted at /content/drive\n"
          ]
        }
      ]
    },
    {
      "cell_type": "code",
      "source": [
        "path = '/content/drive/MyDrive/GoogleNews-vectors-negative300.bin'\n",
        "word2vec = KeyedVectors.load_word2vec_format(path, binary=True)\n",
        "EMBEDDING_SIZE = 300"
      ],
      "metadata": {
        "id": "9OXKKHzAAf2B"
      },
      "execution_count": 25,
      "outputs": []
    },
    {
      "cell_type": "code",
      "source": [
        "word2vec.most_similar(positive = [\"King\", \"Woman\"], negative = [\"Man\"])"
      ],
      "metadata": {
        "colab": {
          "base_uri": "https://localhost:8080/"
        },
        "id": "n0Su7Q4aAS_a",
        "outputId": "aa97bfd4-40c7-4094-8ba2-d67d6db4bd0a"
      },
      "execution_count": 26,
      "outputs": [
        {
          "output_type": "execute_result",
          "data": {
            "text/plain": [
              "[('Queen', 0.4929387867450714),\n",
              " ('Tupou_V.', 0.45174285769462585),\n",
              " ('Oprah_BFF_Gayle', 0.4422132968902588),\n",
              " ('Jackson', 0.440250426530838),\n",
              " ('NECN_Alison', 0.4331282675266266),\n",
              " ('Whitfield', 0.42834725975990295),\n",
              " ('Ida_Vandross', 0.42084527015686035),\n",
              " ('prosecutor_Dan_Satterberg', 0.420758992433548),\n",
              " ('martin_Luther_King', 0.42059651017189026),\n",
              " ('Coretta_King', 0.4202733635902405)]"
            ]
          },
          "metadata": {},
          "execution_count": 26
        }
      ]
    },
    {
      "cell_type": "code",
      "source": [
        "EMBEDDING_SIZE  = 300  # each word in word2vec model is represented using a 300 dimensional vector\n",
        "VOCABULARY_SIZE = len(word_tokenizer.word_index) + 1\n",
        "\n",
        "# create an empty embedding matix\n",
        "embedding_weights = np.zeros((VOCABULARY_SIZE, EMBEDDING_SIZE))\n",
        "\n",
        "# create a word to index dictionary mapping\n",
        "word2id = word_tokenizer.word_index\n",
        "\n",
        "# copy vectors from word2vec model to the words present in corpus\n",
        "for word, index in word2id.items():\n",
        "    try:\n",
        "        embedding_weights[index, :] = word2vec[word]\n",
        "    except KeyError:\n",
        "        pass"
      ],
      "metadata": {
        "id": "4LMecGL_Akm0"
      },
      "execution_count": 27,
      "outputs": []
    },
    {
      "cell_type": "code",
      "source": [
        "print(\"Embeddings shape: {}\".format(embedding_weights.shape))"
      ],
      "metadata": {
        "colab": {
          "base_uri": "https://localhost:8080/"
        },
        "id": "-LjDiZq0AmV5",
        "outputId": "1891e4b2-eb77-4bd6-dac2-e6c34058f796"
      },
      "execution_count": 28,
      "outputs": [
        {
          "output_type": "stream",
          "name": "stdout",
          "text": [
            "Embeddings shape: (59449, 300)\n"
          ]
        }
      ]
    },
    {
      "cell_type": "code",
      "source": [
        "embedding_weights[word_tokenizer.word_index['joy']]"
      ],
      "metadata": {
        "colab": {
          "base_uri": "https://localhost:8080/"
        },
        "id": "4jNJb72wAn57",
        "outputId": "d9601b12-7ac0-4bd9-f66a-911090304699"
      },
      "execution_count": 29,
      "outputs": [
        {
          "output_type": "execute_result",
          "data": {
            "text/plain": [
              "array([ 0.4453125 , -0.20019531,  0.20019531, -0.03149414,  0.078125  ,\n",
              "       -0.390625  ,  0.13671875, -0.13867188,  0.05395508,  0.10546875,\n",
              "       -0.05029297, -0.23730469,  0.19921875,  0.12597656, -0.12695312,\n",
              "        0.34179688,  0.06347656,  0.26757812, -0.07324219, -0.29101562,\n",
              "        0.10498047,  0.11914062,  0.23730469,  0.00640869,  0.12451172,\n",
              "       -0.00939941, -0.02770996,  0.03076172,  0.07421875, -0.22851562,\n",
              "       -0.08056641, -0.05273438,  0.16894531,  0.19824219, -0.15625   ,\n",
              "       -0.08740234,  0.10742188, -0.07177734,  0.05200195,  0.25976562,\n",
              "        0.171875  , -0.13574219,  0.06738281,  0.00531006,  0.15527344,\n",
              "       -0.03515625,  0.08789062,  0.3359375 , -0.12890625,  0.17578125,\n",
              "       -0.08642578,  0.32421875, -0.09033203,  0.35351562,  0.24316406,\n",
              "       -0.07470703, -0.06640625, -0.17578125,  0.06689453, -0.03833008,\n",
              "        0.0100708 , -0.21484375, -0.03686523,  0.04394531,  0.02209473,\n",
              "        0.00219727, -0.22460938,  0.03015137, -0.21582031,  0.16015625,\n",
              "        0.23339844, -0.16699219, -0.09228516,  0.10644531,  0.19335938,\n",
              "       -0.26757812,  0.15722656, -0.08691406,  0.11181641,  0.14941406,\n",
              "       -0.20507812,  0.04882812, -0.07519531, -0.21582031, -0.10107422,\n",
              "       -0.13378906, -0.06103516,  0.05444336,  0.07470703,  0.09521484,\n",
              "       -0.0144043 ,  0.27929688, -0.25585938, -0.05273438, -0.22460938,\n",
              "        0.10253906, -0.15136719,  0.21289062, -0.04711914, -0.12109375,\n",
              "        0.04663086,  0.25976562,  0.13574219,  0.00799561,  0.02001953,\n",
              "        0.1796875 ,  0.30664062,  0.06152344,  0.13574219, -0.09619141,\n",
              "       -0.07421875,  0.38671875,  0.20800781,  0.12695312,  0.05200195,\n",
              "        0.17675781, -0.16796875, -0.19335938, -0.06152344, -0.07568359,\n",
              "       -0.18457031,  0.06030273, -0.15136719, -0.1953125 , -0.23339844,\n",
              "        0.00738525, -0.02478027, -0.09765625, -0.06054688,  0.20214844,\n",
              "       -0.2734375 ,  0.00595093, -0.34570312, -0.12988281,  0.00418091,\n",
              "        0.09960938,  0.0246582 ,  0.15917969, -0.02038574,  0.30273438,\n",
              "       -0.20800781, -0.20214844, -0.03930664, -0.06494141,  0.00436401,\n",
              "       -0.02270508, -0.171875  ,  0.30273438, -0.16113281, -0.49414062,\n",
              "        0.3515625 ,  0.39257812,  0.09814453,  0.41796875,  0.05371094,\n",
              "        0.02392578, -0.03710938, -0.08251953, -0.38671875, -0.40625   ,\n",
              "       -0.05664062,  0.203125  , -0.01782227,  0.3359375 ,  0.19140625,\n",
              "       -0.44335938,  0.00927734,  0.24804688, -0.05102539,  0.19726562,\n",
              "        0.03881836,  0.03442383, -0.40039062, -0.09912109, -0.07128906,\n",
              "        0.21484375, -0.01422119,  0.04907227, -0.07421875, -0.21582031,\n",
              "       -0.41992188,  0.02172852,  0.11083984, -0.33398438, -0.2734375 ,\n",
              "       -0.05322266, -0.16601562, -0.28515625, -0.12207031,  0.04882812,\n",
              "       -0.0625    , -0.04077148, -0.16503906,  0.0480957 , -0.21191406,\n",
              "        0.20019531, -0.2109375 ,  0.10839844, -0.14648438, -0.07958984,\n",
              "       -0.05151367, -0.16601562, -0.24902344, -0.375     ,  0.05664062,\n",
              "       -0.13671875, -0.2578125 ,  0.28515625, -0.04736328,  0.13574219,\n",
              "       -0.14550781,  0.19433594, -0.21972656,  0.08447266, -0.10791016,\n",
              "       -0.11816406, -0.16015625,  0.12060547, -0.10888672,  0.04345703,\n",
              "        0.11474609, -0.08447266, -0.00720215,  0.03662109, -0.38671875,\n",
              "       -0.03881836, -0.03198242,  0.00344849,  0.22558594, -0.06787109,\n",
              "       -0.16699219,  0.2421875 ,  0.05712891,  0.27539062, -0.0456543 ,\n",
              "       -0.19042969, -0.17285156,  0.00836182, -0.03271484,  0.16992188,\n",
              "       -0.18554688, -0.0703125 , -0.32617188, -0.00668335, -0.02770996,\n",
              "        0.3359375 ,  0.125     , -0.2109375 ,  0.06005859, -0.07080078,\n",
              "        0.11132812,  0.125     ,  0.25390625,  0.29296875, -0.03125   ,\n",
              "        0.09033203, -0.20507812, -0.07861328,  0.02062988, -0.0546875 ,\n",
              "       -0.23339844,  0.00096893, -0.04516602,  0.16894531, -0.22167969,\n",
              "        0.08105469,  0.33398438,  0.09619141,  0.00866699, -0.03271484,\n",
              "        0.05493164,  0.12109375,  0.16210938, -0.10302734,  0.27148438,\n",
              "       -0.03344727, -0.30273438,  0.04223633,  0.08496094, -0.15527344,\n",
              "        0.10107422, -0.11474609, -0.13085938,  0.22949219,  0.12988281,\n",
              "        0.09863281, -0.03588867,  0.10693359, -0.24902344,  0.19238281,\n",
              "       -0.05322266, -0.09033203, -0.31640625, -0.5703125 , -0.15917969,\n",
              "        0.0291748 , -0.0246582 , -0.07714844, -0.04663086, -0.17578125])"
            ]
          },
          "metadata": {},
          "execution_count": 29
        }
      ]
    },
    {
      "cell_type": "code",
      "source": [
        "Y = to_categorical(Y)"
      ],
      "metadata": {
        "id": "KnoucIe-ApQr"
      },
      "execution_count": 30,
      "outputs": []
    },
    {
      "cell_type": "code",
      "source": [
        "print(Y.shape)"
      ],
      "metadata": {
        "colab": {
          "base_uri": "https://localhost:8080/"
        },
        "id": "lKbVlxG7Ar1T",
        "outputId": "42e4333b-7989-4d53-aafc-6793b60ad973"
      },
      "execution_count": 31,
      "outputs": [
        {
          "output_type": "stream",
          "name": "stdout",
          "text": [
            "(72202, 100, 13)\n"
          ]
        }
      ]
    },
    {
      "cell_type": "code",
      "source": [
        "TEST_SIZE = 0.15\n",
        "X_train, X_test, Y_train, Y_test = train_test_split(X, Y, test_size=TEST_SIZE, random_state=4)"
      ],
      "metadata": {
        "id": "T6kepbJxAtJW"
      },
      "execution_count": 32,
      "outputs": []
    },
    {
      "cell_type": "code",
      "source": [
        "VALID_SIZE = 0.15\n",
        "X_train, X_validation, Y_train, Y_validation = train_test_split(X_train, Y_train, test_size=VALID_SIZE, random_state=4)"
      ],
      "metadata": {
        "id": "wdIlt1_mAuQk"
      },
      "execution_count": 33,
      "outputs": []
    },
    {
      "cell_type": "code",
      "source": [
        "print(\"TRAINING DATA\")\n",
        "print('Shape of input sequences: {}'.format(X_train.shape))\n",
        "print('Shape of output sequences: {}'.format(Y_train.shape))\n",
        "print(\"-\"*50)\n",
        "print(\"VALIDATION DATA\")\n",
        "print('Shape of input sequences: {}'.format(X_validation.shape))\n",
        "print('Shape of output sequences: {}'.format(Y_validation.shape))\n",
        "print(\"-\"*50)\n",
        "print(\"TESTING DATA\")\n",
        "print('Shape of input sequences: {}'.format(X_test.shape))\n",
        "print('Shape of output sequences: {}'.format(Y_test.shape))"
      ],
      "metadata": {
        "colab": {
          "base_uri": "https://localhost:8080/"
        },
        "id": "OOX9im9FAvme",
        "outputId": "492d7ee0-4807-4fee-c012-8d22796cd7ba"
      },
      "execution_count": 34,
      "outputs": [
        {
          "output_type": "stream",
          "name": "stdout",
          "text": [
            "TRAINING DATA\n",
            "Shape of input sequences: (52165, 100)\n",
            "Shape of output sequences: (52165, 100, 13)\n",
            "--------------------------------------------------\n",
            "VALIDATION DATA\n",
            "Shape of input sequences: (9206, 100)\n",
            "Shape of output sequences: (9206, 100, 13)\n",
            "--------------------------------------------------\n",
            "TESTING DATA\n",
            "Shape of input sequences: (10831, 100)\n",
            "Shape of output sequences: (10831, 100, 13)\n"
          ]
        }
      ]
    },
    {
      "cell_type": "code",
      "source": [
        "NUM_CLASSES = Y.shape[2]\n",
        "lstm_model = Sequential()\n",
        "lstm_model.add(Embedding(input_dim     = VOCABULARY_SIZE,         # vocabulary size - number of unique words in data\n",
        "                         output_dim    = EMBEDDING_SIZE,          # length of vector with which each word is represented\n",
        "                         input_length  = MAX_SEQ_LENGTH,          # length of input sequence\n",
        "                         weights       = [embedding_weights],     # word embedding matrix\n",
        "                         trainable     = True                     # True - update embeddings_weight matrix\n",
        "))\n",
        "lstm_model.add(LSTM(64, return_sequences=True))\n",
        "lstm_model.add(TimeDistributed(Dense(NUM_CLASSES, activation='softmax')))"
      ],
      "metadata": {
        "id": "DKua-Q4bAxHr"
      },
      "execution_count": 36,
      "outputs": []
    },
    {
      "cell_type": "code",
      "source": [
        "lstm_model.compile(loss      =  'categorical_crossentropy',\n",
        "                   optimizer =  'adam',\n",
        "                   metrics   =  ['acc'])"
      ],
      "metadata": {
        "id": "sHqEqUfDA7q3"
      },
      "execution_count": 37,
      "outputs": []
    },
    {
      "cell_type": "code",
      "source": [
        "lstm_model.summary()"
      ],
      "metadata": {
        "colab": {
          "base_uri": "https://localhost:8080/"
        },
        "id": "mDi4UR8mA9G5",
        "outputId": "ab8096d8-7392-4408-eced-c508cb2f8c49"
      },
      "execution_count": 38,
      "outputs": [
        {
          "output_type": "stream",
          "name": "stdout",
          "text": [
            "Model: \"sequential_1\"\n",
            "_________________________________________________________________\n",
            " Layer (type)                Output Shape              Param #   \n",
            "=================================================================\n",
            " embedding_1 (Embedding)     (None, 100, 300)          17834700  \n",
            "                                                                 \n",
            " lstm_1 (LSTM)               (None, 100, 64)           93440     \n",
            "                                                                 \n",
            " time_distributed (TimeDistr  (None, 100, 13)          845       \n",
            " ibuted)                                                         \n",
            "                                                                 \n",
            "=================================================================\n",
            "Total params: 17,928,985\n",
            "Trainable params: 17,928,985\n",
            "Non-trainable params: 0\n",
            "_________________________________________________________________\n"
          ]
        }
      ]
    },
    {
      "cell_type": "code",
      "source": [
        "lstm_training = lstm_model.fit(X_train, Y_train, batch_size=128, epochs=10, validation_data=(X_validation, Y_validation))"
      ],
      "metadata": {
        "colab": {
          "base_uri": "https://localhost:8080/"
        },
        "id": "D37QSC5UA-Nw",
        "outputId": "ba5149cb-3f5a-4654-88ba-fc845aed31cd"
      },
      "execution_count": 39,
      "outputs": [
        {
          "output_type": "stream",
          "name": "stdout",
          "text": [
            "Epoch 1/10\n",
            "408/408 [==============================] - 313s 761ms/step - loss: 0.3063 - acc: 0.9323 - val_loss: 0.0485 - val_acc: 0.9870\n",
            "Epoch 2/10\n",
            "408/408 [==============================] - 317s 778ms/step - loss: 0.0344 - acc: 0.9894 - val_loss: 0.0303 - val_acc: 0.9897\n",
            "Epoch 3/10\n",
            "408/408 [==============================] - 327s 801ms/step - loss: 0.0240 - acc: 0.9916 - val_loss: 0.0267 - val_acc: 0.9905\n",
            "Epoch 4/10\n",
            "408/408 [==============================] - 320s 783ms/step - loss: 0.0203 - acc: 0.9926 - val_loss: 0.0249 - val_acc: 0.9911\n",
            "Epoch 5/10\n",
            "408/408 [==============================] - 319s 782ms/step - loss: 0.0180 - acc: 0.9934 - val_loss: 0.0243 - val_acc: 0.9912\n",
            "Epoch 6/10\n",
            "408/408 [==============================] - 318s 780ms/step - loss: 0.0164 - acc: 0.9940 - val_loss: 0.0238 - val_acc: 0.9915\n",
            "Epoch 7/10\n",
            "408/408 [==============================] - 317s 778ms/step - loss: 0.0148 - acc: 0.9946 - val_loss: 0.0235 - val_acc: 0.9917\n",
            "Epoch 8/10\n",
            "408/408 [==============================] - 320s 785ms/step - loss: 0.0131 - acc: 0.9952 - val_loss: 0.0235 - val_acc: 0.9919\n",
            "Epoch 9/10\n",
            "408/408 [==============================] - 317s 778ms/step - loss: 0.0117 - acc: 0.9958 - val_loss: 0.0242 - val_acc: 0.9918\n",
            "Epoch 10/10\n",
            "408/408 [==============================] - 306s 751ms/step - loss: 0.0104 - acc: 0.9963 - val_loss: 0.0249 - val_acc: 0.9917\n"
          ]
        }
      ]
    },
    {
      "cell_type": "code",
      "source": [
        "plt.plot(lstm_training.history['acc'])\n",
        "plt.plot(lstm_training.history['val_acc'])\n",
        "plt.title('model accuracy')\n",
        "plt.ylabel('accuracy')\n",
        "plt.xlabel('epoch')\n",
        "plt.legend(['train', 'test'], loc=\"lower right\")\n",
        "plt.show()"
      ],
      "metadata": {
        "colab": {
          "base_uri": "https://localhost:8080/",
          "height": 472
        },
        "id": "Xx8lj93mA_n-",
        "outputId": "4e8150cf-2b99-4b86-b847-bd0dc52ffb54"
      },
      "execution_count": 40,
      "outputs": [
        {
          "output_type": "display_data",
          "data": {
            "text/plain": [
              "<Figure size 640x480 with 1 Axes>"
            ],
            "image/png": "[encoded data removed]"
          },
          "metadata": {}
        }
      ]
    }
  ]
}